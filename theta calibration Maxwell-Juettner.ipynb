{
 "cells": [
  {
   "cell_type": "code",
   "execution_count": 2,
   "metadata": {
    "collapsed": true
   },
   "outputs": [],
   "source": [
    "%matplotlib inline\n",
    "import pylab as pl\n",
    "import numpy as np\n",
    "from scipy.special import kn\n",
    "from scipy.integrate import quad"
   ]
  },
  {
   "cell_type": "code",
   "execution_count": 9,
   "metadata": {
    "collapsed": false
   },
   "outputs": [],
   "source": [
    "# Maxwell-Juettner theta calibratior:\n",
    "m = 1.\n",
    "c = 1.\n",
    "\n",
    "theta_array = np.arange(0.01, 1., 0.01)\n",
    "\n",
    "def maxwell_juettner(p, theta):\n",
    "    \n",
    "    gamma = np.sqrt(1 + (p/(m*c))**2)\n",
    "    \n",
    "    f = 1./(4. * np.pi * m**3. * c**3. * kn(2, 1./theta)) * np.exp(- gamma/theta)\n",
    "    \n",
    "    return f\n",
    "\n",
    "def nume_integrand(p, theta):\n",
    "    \n",
    "    nume_in = ((4. * np.pi * p**4) / np.sqrt(1. + p**2)) * maxwell_juettner(p, theta)\n",
    "    \n",
    "    return nume_in\n",
    "\n",
    "def nume_inte(theta):\n",
    "    \n",
    "    nume, err_n = quad(lambda p: nume_integrand(p, theta), 0, np.inf)\n",
    "    \n",
    "    return nume\n",
    "\n",
    "def domi_integrand(p, theta):\n",
    "    \n",
    "    domi_in = (4. * np.pi * p**2) * maxwell_juettner(p, theta)\n",
    "    \n",
    "    return domi_in\n",
    "\n",
    "def domi_inte(theta):\n",
    "\n",
    "    domi, err_d = quad(lambda p: domi_integrand(p, theta), 0, np.inf)\n",
    "    \n",
    "    return domi\n",
    "\n",
    "def temperature_calibration(theta):\n",
    "    \n",
    "    theta_prim = (1./3.) * nume_inte(theta)/domi_inte(theta)\n",
    "    \n",
    "    return theta_prim\n",
    "\n"
   ]
  },
  {
   "cell_type": "code",
   "execution_count": 6,
   "metadata": {
    "collapsed": false
   },
   "outputs": [
    {
     "data": {
      "text/plain": [
       "0.4999999999999999"
      ]
     },
     "execution_count": 6,
     "metadata": {},
     "output_type": "execute_result"
    }
   ],
   "source": [
    "temperature_calibration(0.5)"
   ]
  },
  {
   "cell_type": "code",
   "execution_count": 7,
   "metadata": {
    "collapsed": false
   },
   "outputs": [
    {
     "data": {
      "text/plain": [
       "0.009999999999995178"
      ]
     },
     "execution_count": 7,
     "metadata": {},
     "output_type": "execute_result"
    }
   ],
   "source": [
    "temperature_calibration(0.01)"
   ]
  },
  {
   "cell_type": "code",
   "execution_count": 8,
   "metadata": {
    "collapsed": false
   },
   "outputs": [
    {
     "data": {
      "text/plain": [
       "0.049999999999999885"
      ]
     },
     "execution_count": 8,
     "metadata": {},
     "output_type": "execute_result"
    }
   ],
   "source": [
    "temperature_calibration(0.05)"
   ]
  },
  {
   "cell_type": "code",
   "execution_count": null,
   "metadata": {
    "collapsed": true
   },
   "outputs": [],
   "source": []
  }
 ],
 "metadata": {
  "kernelspec": {
   "display_name": "Python 2",
   "language": "python",
   "name": "python2"
  },
  "language_info": {
   "codemirror_mode": {
    "name": "ipython",
    "version": 2
   },
   "file_extension": ".py",
   "mimetype": "text/x-python",
   "name": "python",
   "nbconvert_exporter": "python",
   "pygments_lexer": "ipython2",
   "version": "2.7.9"
  }
 },
 "nbformat": 4,
 "nbformat_minor": 0
}
