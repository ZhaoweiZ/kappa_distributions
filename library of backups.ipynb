{
 "cells": [
  {
   "cell_type": "code",
   "execution_count": null,
   "metadata": {
    "collapsed": true
   },
   "outputs": [],
   "source": [
    "    def maxwell_juettner(p, theta):\n",
    "    gamma = np.sqrt(1 + (p/(m*c))**2)\n",
    "    f = 1./(4. * np.pi * m**3. * c**3. * kn(2, 1./theta)) * np.exp(- gamma/theta)\n",
    "    return f"
   ]
  },
  {
   "cell_type": "code",
   "execution_count": 1,
   "metadata": {
    "collapsed": false
   },
   "outputs": [
    {
     "ename": "SyntaxError",
     "evalue": "invalid syntax (<ipython-input-1-dc632ac6d3a4>, line 8)",
     "output_type": "error",
     "traceback": [
      "\u001b[0;36m  File \u001b[0;32m\"<ipython-input-1-dc632ac6d3a4>\"\u001b[0;36m, line \u001b[0;32m8\u001b[0m\n\u001b[0;31m    def temperature_calibration(p, theta)\u001b[0m\n\u001b[0m                                         ^\u001b[0m\n\u001b[0;31mSyntaxError\u001b[0m\u001b[0;31m:\u001b[0m invalid syntax\n"
     ]
    }
   ],
   "source": [
    "# Maxwell-Juettner and kappa_distribution:\n",
    "m = 1.\n",
    "c = 1.\n",
    "\n",
    "\n",
    "p = np.arange(-10., 10., 0.01)\n",
    "\n",
    "def temperature_calibration(p, theta)\n",
    "    \n",
    "    def maxwell_juettner(p, theta):\n",
    "    gamma = np.sqrt(1 + (p/(m*c))**2)\n",
    "    f = 1./(4. * np.pi * m**3. * c**3. * kn(2, 1./theta)) * np.exp(- gamma/theta)\n",
    "    return f\n",
    "    \n",
    "    \n",
    "    \n",
    "    \n",
    "    \n",
    "    \n",
    "\n",
    "def kappa_distribution(p, theta, kappa):\n",
    "    \n",
    "    def norm(theta, kappa):\n",
    "        I_1_integrand = lambda x: (x**(3./2.) * (x + 2.)**(1./2.))/((1. + x/(kappa * theta**2))**(kappa + 1.))\n",
    "        I_1_square, err1 = quad(I_1_integrand, 0, np.inf)\n",
    "    \n",
    "        I_2_integrand = lambda x: (x**(1./2.) * (x + 2.)**(1./2.))/((1. + x/(kappa * theta**2))**(kappa + 1.))\n",
    "        I_2_square, err2 = quad(I_2_integrand, 0, np.inf)\n",
    "    \n",
    "        n = 1./(I_1_square + I_2_square)\n",
    "    \n",
    "        return n\n",
    "    \n",
    "    m = norm(theta, kappa)\n",
    "    \n",
    "    f = (m/(4. * np.pi)) * (1. + (np.sqrt(1. + p**2.) - 1.)/(kappa * theta**2))**(- (kappa + 1.))\n",
    "   \n",
    "    return f\n",
    "\n",
    "\n"
   ]
  },
  {
   "cell_type": "code",
   "execution_count": null,
   "metadata": {
    "collapsed": true
   },
   "outputs": [],
   "source": [
    "pl.semilogy(p, kappa_distribution(p, 1., 10.), label = '$\\\\kappa = 10$')\n",
    "pl.semilogy(p, kappa_distribution(p, 1., 100.), label = '$\\\\kappa = 100$')\n",
    "pl.semilogy(p, maxwell_juettner(p, 1.), label = '$\\\\maxwell$')\n",
    "pl.legend()"
   ]
  }
 ],
 "metadata": {
  "kernelspec": {
   "display_name": "Python 2",
   "language": "python",
   "name": "python2"
  },
  "language_info": {
   "codemirror_mode": {
    "name": "ipython",
    "version": 2
   },
   "file_extension": ".py",
   "mimetype": "text/x-python",
   "name": "python",
   "nbconvert_exporter": "python",
   "pygments_lexer": "ipython2",
   "version": "2.7.9"
  }
 },
 "nbformat": 4,
 "nbformat_minor": 0
}
